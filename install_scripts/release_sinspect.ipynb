{
 "metadata": {
  "name": "release_sinspect"
 },
 "nbformat": 3,
 "nbformat_minor": 0,
 "worksheets": [
  {
   "cells": [
    {
     "cell_type": "heading",
     "level": 1,
     "metadata": {},
     "source": [
      "SinSPECt release notes"
     ]
    },
    {
     "cell_type": "markdown",
     "metadata": {},
     "source": [
      "Specify the version in the next cell, e.g. '0.1', '0.3rc1', '1.0'"
     ]
    },
    {
     "cell_type": "code",
     "collapsed": false,
     "input": [
      "version = '0.3'"
     ],
     "language": "python",
     "metadata": {},
     "outputs": []
    },
    {
     "cell_type": "raw",
     "metadata": {},
     "source": [
      "This notebook assumes a directory structure of\n",
      "  SinSPECt_parent\n",
      "  |_SinSPECt (i.e. source)\n",
      "  | |_app.py\n",
      "  | |_README.rst\n",
      "  |\n",
      "  |_Other_directories"
     ]
    },
    {
     "cell_type": "code",
     "collapsed": false,
     "input": [
      "cd C:\\Users\\gary\\VeRSI\\NeCTAR_AS_SXR_tool\\SinSPECt"
     ],
     "language": "python",
     "metadata": {},
     "outputs": []
    },
    {
     "cell_type": "code",
     "collapsed": false,
     "input": [
      "BASE = r'C:\\Users\\gary\\VeRSI\\NeCTAR_AS_SXR_tool\\SinSPECt'"
     ],
     "language": "python",
     "metadata": {},
     "outputs": []
    },
    {
     "cell_type": "code",
     "collapsed": false,
     "input": [
      "cd $BASE"
     ],
     "language": "python",
     "metadata": {},
     "outputs": []
    },
    {
     "cell_type": "markdown",
     "metadata": {},
     "source": [
      "Manually update the README.rst Version History, which is currently"
     ]
    },
    {
     "cell_type": "code",
     "collapsed": false,
     "input": [
      "s = open('README.rst').read()\n",
      "print s[s.find('Version History'):]"
     ],
     "language": "python",
     "metadata": {},
     "outputs": []
    },
    {
     "cell_type": "markdown",
     "metadata": {},
     "source": [
      "Verify that Copyright messages in the LICENSE file and .py files have the current year.\n",
      "Here I use Enthought's grin, which is basically grep, since I know it's available as part of EPD on all platforms."
     ]
    },
    {
     "cell_type": "code",
     "collapsed": false,
     "input": [
      "!grin -i \"copyright.*\\d\\d\\d\\d\" LICENSE *.py docs/conf.py"
     ],
     "language": "python",
     "metadata": {},
     "outputs": []
    },
    {
     "cell_type": "markdown",
     "metadata": {},
     "source": [
      "Update the documentation version by updating the 'version' and 'release' strings in docs/conf.py\n",
      "Currently these are"
     ]
    },
    {
     "cell_type": "code",
     "collapsed": false,
     "input": [
      "cd $BASE\\docs"
     ],
     "language": "python",
     "metadata": {},
     "outputs": []
    },
    {
     "cell_type": "code",
     "collapsed": false,
     "input": [
      "import conf\n",
      "print 'version:', conf.version, ', release:', conf.release"
     ],
     "language": "python",
     "metadata": {},
     "outputs": []
    },
    {
     "cell_type": "markdown",
     "metadata": {},
     "source": [
      "Update `__version__` string in app.py.\n",
      "Currently this is"
     ]
    },
    {
     "cell_type": "code",
     "collapsed": false,
     "input": [
      "cd $BASE"
     ],
     "language": "python",
     "metadata": {},
     "outputs": []
    },
    {
     "cell_type": "code",
     "collapsed": false,
     "input": [
      "import app\n",
      "print app.__version__"
     ],
     "language": "python",
     "metadata": {},
     "outputs": []
    },
    {
     "cell_type": "raw",
     "metadata": {},
     "source": [
      "Next:\n",
      "    Final run of unit tests/nose tests\n",
      "    Package versions on Windows and Mac:\n",
      "        Windows (We use innotools for packaging)\n",
      "            Update install_scripts/sinspect.iss:\n",
      "                Add any new source files to the [Files] section\n",
      "                Update AppVersion in the [Setup] section\n",
      "            Compile the installer"
     ]
    },
    {
     "cell_type": "markdown",
     "metadata": {},
     "source": [
      "Currently this is"
     ]
    },
    {
     "cell_type": "raw",
     "metadata": {},
     "source": [
      "        Mac OSX\n",
      "            Update version in Platypus packager [Platypus | http://sveinbjorn.org/platypus]\n",
      "            Wrap SinSPECt in an application bundle using Platypus"
     ]
    },
    {
     "cell_type": "markdown",
     "metadata": {},
     "source": [
      "<img src=\"install_scripts/Mac/Screen Shot 2013-02-21 at 12.34.40 PM.png\" height=\"42\" width=\"42\">"
     ]
    },
    {
     "cell_type": "code",
     "collapsed": false,
     "input": [
      "cd $BASE\\install_scripts"
     ],
     "language": "python",
     "metadata": {},
     "outputs": []
    },
    {
     "cell_type": "code",
     "collapsed": false,
     "input": [
      "from IPython.display import Image\n",
      "Image(filename='ipynb_images/Screen Shot 2013-02-21 at 12.34.40 PM.png')"
     ],
     "language": "python",
     "metadata": {},
     "outputs": []
    },
    {
     "cell_type": "raw",
     "metadata": {},
     "source": [
      "        Mac OSX\n",
      "            Update version in Platypus packager [Platypus | http://sveinbjorn.org/platypus]\n",
      "            Wrap SinSPECt in an application bundle using Platypus\n",
      "            Build an installer using mac Installer/PackageMaker:"
     ]
    },
    {
     "cell_type": "code",
     "collapsed": false,
     "input": [
      "Image(filename='ipynb_images/Screen Shot 2013-02-21 at 12.34.46 PM.png')"
     ],
     "language": "python",
     "metadata": {},
     "outputs": []
    },
    {
     "cell_type": "raw",
     "metadata": {},
     "source": [
      "    Commit these changes:\n",
      "        $ git tag -a message\n",
      "-   Announce new version availability\n",
      "    Change version on synchrotron program landing page\n",
      "    Upload the new installer and zip file versions to the synchrotron website for download"
     ]
    }
   ],
   "metadata": {}
  }
 ]
}